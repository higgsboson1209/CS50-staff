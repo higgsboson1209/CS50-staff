{
  "nbformat": 4,
  "nbformat_minor": 0,
  "metadata": {
    "colab": {
      "name": "SLfeedback.ipynb",
      "provenance": [],
      "collapsed_sections": [],
      "include_colab_link": true
    },
    "kernelspec": {
      "name": "python3",
      "display_name": "Python 3"
    }
  },
  "cells": [
    {
      "cell_type": "markdown",
      "metadata": {
        "id": "view-in-github",
        "colab_type": "text"
      },
      "source": [
        "<a href=\"https://colab.research.google.com/github/higgsboson1209/CS50-staff/blob/master/SLfeedback.ipynb\" target=\"_parent\"><img src=\"https://colab.research.google.com/assets/colab-badge.svg\" alt=\"Open In Colab\"/></a>"
      ]
    },
    {
      "cell_type": "code",
      "metadata": {
        "id": "3emmFIIRhNmH",
        "colab_type": "code",
        "colab": {}
      },
      "source": [
        "import pandas as pd \n",
        "data=pd.read_csv(\"/content/drive/My Drive/Weekly Feedback and Check-In (Responses) - Form Responses 1.csv\")"
      ],
      "execution_count": null,
      "outputs": []
    },
    {
      "cell_type": "code",
      "metadata": {
        "id": "GsSrzmEKOrC5",
        "colab_type": "code",
        "colab": {
          "base_uri": "https://localhost:8080/",
          "height": 33
        },
        "outputId": "b59a8794-ddfb-4acc-a072-1fcbd9d32dbb"
      },
      "source": [
        "from google.colab import drive\n",
        "drive.mount('/content/drive')"
      ],
      "execution_count": null,
      "outputs": [
        {
          "output_type": "stream",
          "text": [
            "Drive already mounted at /content/drive; to attempt to forcibly remount, call drive.mount(\"/content/drive\", force_remount=True).\n"
          ],
          "name": "stdout"
        }
      ]
    },
    {
      "cell_type": "code",
      "metadata": {
        "id": "APkCPSNxjQRP",
        "colab_type": "code",
        "colab": {
          "base_uri": "https://localhost:8080/",
          "height": 151
        },
        "outputId": "463859f1-5c63-4f62-b4f2-9878bd2bb8bf"
      },
      "source": [
        "print(data.head())"
      ],
      "execution_count": null,
      "outputs": [
        {
          "output_type": "stream",
          "text": [
            "           Timestamp  ...             Anything else you want to let us know?\n",
            "0  6/30/2020 2:08:00  ...                                                NaN\n",
            "1   7/1/2020 7:46:26  ...  Maybe create on discod private sub sections fo...\n",
            "2   7/1/2020 7:47:52  ...                                                NaN\n",
            "3   7/1/2020 7:47:54  ...  I would like to change the section time to UTC...\n",
            "4   7/1/2020 7:48:40  ...                                                NaN\n",
            "\n",
            "[5 rows x 27 columns]\n"
          ],
          "name": "stdout"
        }
      ]
    },
    {
      "cell_type": "code",
      "metadata": {
        "id": "WzDwpMEapQao",
        "colab_type": "code",
        "colab": {}
      },
      "source": [
        "###drop all columns that are useless\n",
        "data.drop(['Timestamp','Check all resources that you found helpful'],axis=1,inplace=True)"
      ],
      "execution_count": null,
      "outputs": []
    },
    {
      "cell_type": "code",
      "metadata": {
        "id": "rUadPBqmpdIt",
        "colab_type": "code",
        "colab": {}
      },
      "source": [
        "###drop data enteries made by SL's\n",
        "data.drop(data[data['Are you a student or a section leader?']!='Student'].index,inplace=True)"
      ],
      "execution_count": null,
      "outputs": []
    },
    {
      "cell_type": "code",
      "metadata": {
        "id": "8LZAWC10q21A",
        "colab_type": "code",
        "colab": {}
      },
      "source": [
        "###drop data enteries not relevant to the students by index\n",
        "data.drop(data.iloc[:,10:24],inplace=True,axis=1)"
      ],
      "execution_count": null,
      "outputs": []
    },
    {
      "cell_type": "code",
      "metadata": {
        "id": "WddWaJHoxLx7",
        "colab_type": "code",
        "colab": {
          "base_uri": "https://localhost:8080/",
          "height": 308
        },
        "outputId": "5da88182-6aa7-4c08-8544-ce861ce59f81"
      },
      "source": [
        "data.head()"
      ],
      "execution_count": null,
      "outputs": [
        {
          "output_type": "execute_result",
          "data": {
            "text/html": [
              "<div>\n",
              "<style scoped>\n",
              "    .dataframe tbody tr th:only-of-type {\n",
              "        vertical-align: middle;\n",
              "    }\n",
              "\n",
              "    .dataframe tbody tr th {\n",
              "        vertical-align: top;\n",
              "    }\n",
              "\n",
              "    .dataframe thead th {\n",
              "        text-align: right;\n",
              "    }\n",
              "</style>\n",
              "<table border=\"1\" class=\"dataframe\">\n",
              "  <thead>\n",
              "    <tr style=\"text-align: right;\">\n",
              "      <th></th>\n",
              "      <th>Email Address</th>\n",
              "      <th>Are you a student or a section leader?</th>\n",
              "      <th>Did you attend Section this week?</th>\n",
              "      <th>Feel free to elaborate on your response(s) above</th>\n",
              "      <th>I feel comfortable reaching out for help.</th>\n",
              "      <th>Feel free to elaborate on your rating above</th>\n",
              "      <th>How helpful did you find your section?</th>\n",
              "      <th>Pace</th>\n",
              "      <th>Difficulty</th>\n",
              "      <th>What other feedback would you like to provide about your section?</th>\n",
              "      <th>Anything else you want to let us know?</th>\n",
              "    </tr>\n",
              "  </thead>\n",
              "  <tbody>\n",
              "    <tr>\n",
              "      <th>0</th>\n",
              "      <td>bhaskar.bharat92@gmail.com</td>\n",
              "      <td>Student</td>\n",
              "      <td>No - I signed up for a section, but wasn't abl...</td>\n",
              "      <td>Harvard's CS50x lectures are well laid out. It...</td>\n",
              "      <td>4.0</td>\n",
              "      <td>NaN</td>\n",
              "      <td>NaN</td>\n",
              "      <td>NaN</td>\n",
              "      <td>NaN</td>\n",
              "      <td>NaN</td>\n",
              "      <td>NaN</td>\n",
              "    </tr>\n",
              "    <tr>\n",
              "      <th>1</th>\n",
              "      <td>g_fahd@hotmail.com</td>\n",
              "      <td>Student</td>\n",
              "      <td>Yes</td>\n",
              "      <td>NaN</td>\n",
              "      <td>5.0</td>\n",
              "      <td>NaN</td>\n",
              "      <td>5.0</td>\n",
              "      <td>5.0</td>\n",
              "      <td>1.0</td>\n",
              "      <td>NaN</td>\n",
              "      <td>Maybe create on discod private sub sections fo...</td>\n",
              "    </tr>\n",
              "    <tr>\n",
              "      <th>2</th>\n",
              "      <td>pramodrao24@gmail.com</td>\n",
              "      <td>Student</td>\n",
              "      <td>Yes</td>\n",
              "      <td>NaN</td>\n",
              "      <td>5.0</td>\n",
              "      <td>NaN</td>\n",
              "      <td>5.0</td>\n",
              "      <td>3.0</td>\n",
              "      <td>1.0</td>\n",
              "      <td>NaN</td>\n",
              "      <td>NaN</td>\n",
              "    </tr>\n",
              "    <tr>\n",
              "      <th>3</th>\n",
              "      <td>emily.okuhara@gmail.com</td>\n",
              "      <td>Student</td>\n",
              "      <td>Yes</td>\n",
              "      <td>NaN</td>\n",
              "      <td>4.0</td>\n",
              "      <td>NaN</td>\n",
              "      <td>2.0</td>\n",
              "      <td>1.0</td>\n",
              "      <td>1.0</td>\n",
              "      <td>NaN</td>\n",
              "      <td>I would like to change the section time to UTC...</td>\n",
              "    </tr>\n",
              "    <tr>\n",
              "      <th>4</th>\n",
              "      <td>negar.hadian@gmail.com</td>\n",
              "      <td>Student</td>\n",
              "      <td>Yes</td>\n",
              "      <td>NaN</td>\n",
              "      <td>5.0</td>\n",
              "      <td>NaN</td>\n",
              "      <td>4.0</td>\n",
              "      <td>4.0</td>\n",
              "      <td>3.0</td>\n",
              "      <td>NaN</td>\n",
              "      <td>NaN</td>\n",
              "    </tr>\n",
              "  </tbody>\n",
              "</table>\n",
              "</div>"
            ],
            "text/plain": [
              "                Email Address  ...             Anything else you want to let us know?\n",
              "0  bhaskar.bharat92@gmail.com  ...                                                NaN\n",
              "1         g_fahd@hotmail.com   ...  Maybe create on discod private sub sections fo...\n",
              "2       pramodrao24@gmail.com  ...                                                NaN\n",
              "3     emily.okuhara@gmail.com  ...  I would like to change the section time to UTC...\n",
              "4      negar.hadian@gmail.com  ...                                                NaN\n",
              "\n",
              "[5 rows x 11 columns]"
            ]
          },
          "metadata": {
            "tags": []
          },
          "execution_count": 7
        }
      ]
    },
    {
      "cell_type": "code",
      "metadata": {
        "id": "6_qllUCux_EQ",
        "colab_type": "code",
        "colab": {}
      },
      "source": [
        "###drop are you a student or SL since we only now have data for the students\n",
        "data.drop(data.columns[1],axis=1,inplace=True)"
      ],
      "execution_count": null,
      "outputs": []
    },
    {
      "cell_type": "code",
      "metadata": {
        "id": "rnPVarJmyIVI",
        "colab_type": "code",
        "colab": {}
      },
      "source": [
        "###drop data enteries of students who didnt attend sections\n",
        "data.drop(data[data['Did you attend Section this week?']!='Yes'].index,inplace=True)"
      ],
      "execution_count": null,
      "outputs": []
    },
    {
      "cell_type": "code",
      "metadata": {
        "id": "oHX9lTGq04mj",
        "colab_type": "code",
        "colab": {}
      },
      "source": [
        "data.drop(data.columns[1],axis=1,inplace=True)"
      ],
      "execution_count": null,
      "outputs": []
    },
    {
      "cell_type": "code",
      "metadata": {
        "id": "1NC_eKww06Eq",
        "colab_type": "code",
        "colab": {
          "base_uri": "https://localhost:8080/",
          "height": 168
        },
        "outputId": "5c64df26-df0a-44bc-9664-5ccff68360bc"
      },
      "source": [
        "for i,j in enumerate(data.columns):\n",
        "  print(i,j)"
      ],
      "execution_count": null,
      "outputs": [
        {
          "output_type": "stream",
          "text": [
            "0 Email Address\n",
            "1 Feel free to elaborate on your response(s) above\n",
            "2 I feel comfortable reaching out for help.\n",
            "3 Feel free to elaborate on your rating above\n",
            "4 How helpful did you find your section?\n",
            "5 Pace\n",
            "6 Difficulty\n",
            "7 What other feedback would you like to provide about your section?\n",
            "8 Anything else you want to let us know?\n"
          ],
          "name": "stdout"
        }
      ]
    },
    {
      "cell_type": "code",
      "metadata": {
        "id": "v_eEtrfqRv1w",
        "colab_type": "code",
        "colab": {}
      },
      "source": [
        "SLmap=pd.read_csv(\"/content/drive/My Drive/consolidated student enrollment - Final Version.csv\")"
      ],
      "execution_count": null,
      "outputs": []
    },
    {
      "cell_type": "code",
      "metadata": {
        "colab_type": "code",
        "id": "0y54mV_nPwjW",
        "colab": {}
      },
      "source": [
        "###drop data enteries not relevant to the students by index\n",
        "SLmap.drop(SLmap.columns[[0,1,3,4,5,6]],inplace=True,axis=1)"
      ],
      "execution_count": null,
      "outputs": []
    },
    {
      "cell_type": "code",
      "metadata": {
        "id": "ZD1sxnowQZHP",
        "colab_type": "code",
        "colab": {}
      },
      "source": [
        "###remove unnecesary columns\n",
        "SLmap.drop(SLmap.iloc[:,2:],inplace=True,axis=1)"
      ],
      "execution_count": null,
      "outputs": []
    },
    {
      "cell_type": "code",
      "metadata": {
        "id": "GXrAPcllRA-V",
        "colab_type": "code",
        "colab": {
          "base_uri": "https://localhost:8080/",
          "height": 392
        },
        "outputId": "d4b20a19-46e1-4129-8d45-6f14d676d153"
      },
      "source": [
        "SLmap.head(100)"
      ],
      "execution_count": null,
      "outputs": [
        {
          "output_type": "execute_result",
          "data": {
            "text/html": [
              "<div>\n",
              "<style scoped>\n",
              "    .dataframe tbody tr th:only-of-type {\n",
              "        vertical-align: middle;\n",
              "    }\n",
              "\n",
              "    .dataframe tbody tr th {\n",
              "        vertical-align: top;\n",
              "    }\n",
              "\n",
              "    .dataframe thead th {\n",
              "        text-align: right;\n",
              "    }\n",
              "</style>\n",
              "<table border=\"1\" class=\"dataframe\">\n",
              "  <thead>\n",
              "    <tr style=\"text-align: right;\">\n",
              "      <th></th>\n",
              "      <th>Email Address</th>\n",
              "      <th>Email Address.1</th>\n",
              "    </tr>\n",
              "  </thead>\n",
              "  <tbody>\n",
              "    <tr>\n",
              "      <th>0</th>\n",
              "      <td>chrishingley17@gmail.com</td>\n",
              "      <td>michael.pon@gmail.com</td>\n",
              "    </tr>\n",
              "    <tr>\n",
              "      <th>1</th>\n",
              "      <td>colefortner@gmail.com</td>\n",
              "      <td>NaN</td>\n",
              "    </tr>\n",
              "    <tr>\n",
              "      <th>2</th>\n",
              "      <td>jung.st1995@gmail.com</td>\n",
              "      <td>NaN</td>\n",
              "    </tr>\n",
              "    <tr>\n",
              "      <th>3</th>\n",
              "      <td>citrayuwono@yahoo.com</td>\n",
              "      <td>NaN</td>\n",
              "    </tr>\n",
              "    <tr>\n",
              "      <th>4</th>\n",
              "      <td>gulsariyar@gmail.com</td>\n",
              "      <td>NaN</td>\n",
              "    </tr>\n",
              "    <tr>\n",
              "      <th>...</th>\n",
              "      <td>...</td>\n",
              "      <td>...</td>\n",
              "    </tr>\n",
              "    <tr>\n",
              "      <th>95</th>\n",
              "      <td>hasanhamid_1997@yahoo.com</td>\n",
              "      <td>toby.wang.96@gmail.com</td>\n",
              "    </tr>\n",
              "    <tr>\n",
              "      <th>96</th>\n",
              "      <td>amusatdaniel2029@gmail.com</td>\n",
              "      <td>NaN</td>\n",
              "    </tr>\n",
              "    <tr>\n",
              "      <th>97</th>\n",
              "      <td>spidersilk2@gmail.com</td>\n",
              "      <td>NaN</td>\n",
              "    </tr>\n",
              "    <tr>\n",
              "      <th>98</th>\n",
              "      <td>khepera.damu@gmail.com</td>\n",
              "      <td>NaN</td>\n",
              "    </tr>\n",
              "    <tr>\n",
              "      <th>99</th>\n",
              "      <td>busysloth168@gmail.com</td>\n",
              "      <td>NaN</td>\n",
              "    </tr>\n",
              "  </tbody>\n",
              "</table>\n",
              "<p>100 rows × 2 columns</p>\n",
              "</div>"
            ],
            "text/plain": [
              "                 Email Address         Email Address.1\n",
              "0     chrishingley17@gmail.com   michael.pon@gmail.com\n",
              "1        colefortner@gmail.com                     NaN\n",
              "2        jung.st1995@gmail.com                     NaN\n",
              "3        citrayuwono@yahoo.com                     NaN\n",
              "4         gulsariyar@gmail.com                     NaN\n",
              "..                         ...                     ...\n",
              "95   hasanhamid_1997@yahoo.com  toby.wang.96@gmail.com\n",
              "96  amusatdaniel2029@gmail.com                     NaN\n",
              "97       spidersilk2@gmail.com                     NaN\n",
              "98      khepera.damu@gmail.com                     NaN\n",
              "99      busysloth168@gmail.com                     NaN\n",
              "\n",
              "[100 rows x 2 columns]"
            ]
          },
          "metadata": {
            "tags": []
          },
          "execution_count": 15
        }
      ]
    },
    {
      "cell_type": "code",
      "metadata": {
        "id": "tygsM009St09",
        "colab_type": "code",
        "colab": {}
      },
      "source": [
        "###converting Nan Values to zero since they are not useful here \n",
        "SLmap.fillna(0,inplace=True)"
      ],
      "execution_count": null,
      "outputs": []
    },
    {
      "cell_type": "code",
      "metadata": {
        "id": "j4qbC62iRCis",
        "colab_type": "code",
        "colab": {}
      },
      "source": [
        "###take care of 0 values since rows with NAN values make it \n",
        "for ind in SLmap.index:\n",
        "  if SLmap['Email Address.1'][ind]!=0 and SLmap['Email Address.1'][ind]!=\"notes : team teaching\":\n",
        "    temp=SLmap['Email Address.1'][ind]\n",
        "  else:\n",
        "    SLmap['Email Address.1'][ind]=temp"
      ],
      "execution_count": null,
      "outputs": []
    },
    {
      "cell_type": "code",
      "metadata": {
        "id": "oCRIWX2VYHEj",
        "colab_type": "code",
        "colab": {}
      },
      "source": [
        "###merge the 2 dataframes based on the Data df and keep the right side df as SLmap\n",
        "fin=pd.merge(data,SLmap,how=\"left\",on=\"Email Address\")"
      ],
      "execution_count": null,
      "outputs": []
    },
    {
      "cell_type": "code",
      "metadata": {
        "id": "3ruUP7hpYrb0",
        "colab_type": "code",
        "colab": {
          "base_uri": "https://localhost:8080/",
          "height": 1000
        },
        "outputId": "2243973e-131a-40ae-d8dd-57a1b4b0dff0"
      },
      "source": [
        "###weird thing with SL email where data is filled with notes:team teaching \n",
        "fin.head(50)"
      ],
      "execution_count": null,
      "outputs": [
        {
          "output_type": "execute_result",
          "data": {
            "text/html": [
              "<div>\n",
              "<style scoped>\n",
              "    .dataframe tbody tr th:only-of-type {\n",
              "        vertical-align: middle;\n",
              "    }\n",
              "\n",
              "    .dataframe tbody tr th {\n",
              "        vertical-align: top;\n",
              "    }\n",
              "\n",
              "    .dataframe thead th {\n",
              "        text-align: right;\n",
              "    }\n",
              "</style>\n",
              "<table border=\"1\" class=\"dataframe\">\n",
              "  <thead>\n",
              "    <tr style=\"text-align: right;\">\n",
              "      <th></th>\n",
              "      <th>Email Address</th>\n",
              "      <th>Feel free to elaborate on your response(s) above</th>\n",
              "      <th>I feel comfortable reaching out for help.</th>\n",
              "      <th>Feel free to elaborate on your rating above</th>\n",
              "      <th>How helpful did you find your section?</th>\n",
              "      <th>Pace</th>\n",
              "      <th>Difficulty</th>\n",
              "      <th>What other feedback would you like to provide about your section?</th>\n",
              "      <th>Anything else you want to let us know?</th>\n",
              "      <th>Email Address.1</th>\n",
              "    </tr>\n",
              "  </thead>\n",
              "  <tbody>\n",
              "    <tr>\n",
              "      <th>0</th>\n",
              "      <td>g_fahd@hotmail.com</td>\n",
              "      <td>NaN</td>\n",
              "      <td>5.0</td>\n",
              "      <td>NaN</td>\n",
              "      <td>5.0</td>\n",
              "      <td>5.0</td>\n",
              "      <td>1.0</td>\n",
              "      <td>NaN</td>\n",
              "      <td>Maybe create on discod private sub sections fo...</td>\n",
              "      <td>NaN</td>\n",
              "    </tr>\n",
              "    <tr>\n",
              "      <th>1</th>\n",
              "      <td>pramodrao24@gmail.com</td>\n",
              "      <td>NaN</td>\n",
              "      <td>5.0</td>\n",
              "      <td>NaN</td>\n",
              "      <td>5.0</td>\n",
              "      <td>3.0</td>\n",
              "      <td>1.0</td>\n",
              "      <td>NaN</td>\n",
              "      <td>NaN</td>\n",
              "      <td>akshayn@cmi.ac.in</td>\n",
              "    </tr>\n",
              "    <tr>\n",
              "      <th>2</th>\n",
              "      <td>emily.okuhara@gmail.com</td>\n",
              "      <td>NaN</td>\n",
              "      <td>4.0</td>\n",
              "      <td>NaN</td>\n",
              "      <td>2.0</td>\n",
              "      <td>1.0</td>\n",
              "      <td>1.0</td>\n",
              "      <td>NaN</td>\n",
              "      <td>I would like to change the section time to UTC...</td>\n",
              "      <td>siddhanttiwary30@gmail.com</td>\n",
              "    </tr>\n",
              "    <tr>\n",
              "      <th>3</th>\n",
              "      <td>negar.hadian@gmail.com</td>\n",
              "      <td>NaN</td>\n",
              "      <td>5.0</td>\n",
              "      <td>NaN</td>\n",
              "      <td>4.0</td>\n",
              "      <td>4.0</td>\n",
              "      <td>3.0</td>\n",
              "      <td>NaN</td>\n",
              "      <td>NaN</td>\n",
              "      <td>akshayn@cmi.ac.in</td>\n",
              "    </tr>\n",
              "    <tr>\n",
              "      <th>4</th>\n",
              "      <td>shalini.916@gmail.com</td>\n",
              "      <td>Like this holistic approach of learning with c...</td>\n",
              "      <td>5.0</td>\n",
              "      <td>Everyone is very welcoming so i am comfortable...</td>\n",
              "      <td>5.0</td>\n",
              "      <td>3.0</td>\n",
              "      <td>2.0</td>\n",
              "      <td>If an agenda is shared before each section, th...</td>\n",
              "      <td>No</td>\n",
              "      <td>akshayn@cmi.ac.in</td>\n",
              "    </tr>\n",
              "    <tr>\n",
              "      <th>5</th>\n",
              "      <td>jessejeremiah2015@gmail.com</td>\n",
              "      <td>NaN</td>\n",
              "      <td>3.0</td>\n",
              "      <td>NaN</td>\n",
              "      <td>5.0</td>\n",
              "      <td>3.0</td>\n",
              "      <td>3.0</td>\n",
              "      <td>NaN</td>\n",
              "      <td>NaN</td>\n",
              "      <td>huismichael9@gmail.com</td>\n",
              "    </tr>\n",
              "    <tr>\n",
              "      <th>6</th>\n",
              "      <td>NAIR.PRASANA@GMAIL.COM</td>\n",
              "      <td>NaN</td>\n",
              "      <td>4.0</td>\n",
              "      <td>I am quite shy about this but the section lead...</td>\n",
              "      <td>4.0</td>\n",
              "      <td>4.0</td>\n",
              "      <td>2.0</td>\n",
              "      <td>would be great if we kind of go through what t...</td>\n",
              "      <td>Thank you for doing all this, to the teachers ...</td>\n",
              "      <td>akshayn@cmi.ac.in</td>\n",
              "    </tr>\n",
              "    <tr>\n",
              "      <th>7</th>\n",
              "      <td>yum.julia@gmail.com</td>\n",
              "      <td>Haven't had a chance to check office hours and...</td>\n",
              "      <td>5.0</td>\n",
              "      <td>NaN</td>\n",
              "      <td>3.0</td>\n",
              "      <td>5.0</td>\n",
              "      <td>1.0</td>\n",
              "      <td>It is great to have a short recap and practice...</td>\n",
              "      <td>thanks for making this happen, it is awesome t...</td>\n",
              "      <td>akshayn@cmi.ac.in</td>\n",
              "    </tr>\n",
              "    <tr>\n",
              "      <th>8</th>\n",
              "      <td>narmin.isparzade@gmail.com</td>\n",
              "      <td>NaN</td>\n",
              "      <td>5.0</td>\n",
              "      <td>NaN</td>\n",
              "      <td>4.0</td>\n",
              "      <td>4.0</td>\n",
              "      <td>3.0</td>\n",
              "      <td>NaN</td>\n",
              "      <td>NaN</td>\n",
              "      <td>reenayuan@berkeley.edu</td>\n",
              "    </tr>\n",
              "    <tr>\n",
              "      <th>9</th>\n",
              "      <td>malphonsus20@gmail.com</td>\n",
              "      <td>NaN</td>\n",
              "      <td>4.0</td>\n",
              "      <td>NaN</td>\n",
              "      <td>5.0</td>\n",
              "      <td>3.0</td>\n",
              "      <td>3.0</td>\n",
              "      <td>NaN</td>\n",
              "      <td>A copy of the section problems being solved wo...</td>\n",
              "      <td>vedang.d.gaonkar@gmail.com</td>\n",
              "    </tr>\n",
              "    <tr>\n",
              "      <th>10</th>\n",
              "      <td>cara.failer@gmail.com</td>\n",
              "      <td>NaN</td>\n",
              "      <td>4.0</td>\n",
              "      <td>NaN</td>\n",
              "      <td>4.0</td>\n",
              "      <td>3.0</td>\n",
              "      <td>4.0</td>\n",
              "      <td>NaN</td>\n",
              "      <td>NaN</td>\n",
              "      <td>samakshsethi.ss@gmail.com</td>\n",
              "    </tr>\n",
              "    <tr>\n",
              "      <th>11</th>\n",
              "      <td>twelsh37@gmail.com</td>\n",
              "      <td>NaN</td>\n",
              "      <td>4.0</td>\n",
              "      <td>NaN</td>\n",
              "      <td>3.0</td>\n",
              "      <td>3.0</td>\n",
              "      <td>2.0</td>\n",
              "      <td>NaN</td>\n",
              "      <td>NaN</td>\n",
              "      <td>rparada@stanford.edu</td>\n",
              "    </tr>\n",
              "    <tr>\n",
              "      <th>12</th>\n",
              "      <td>Shamel.basaria1@gmail.com</td>\n",
              "      <td>NaN</td>\n",
              "      <td>5.0</td>\n",
              "      <td>NaN</td>\n",
              "      <td>5.0</td>\n",
              "      <td>5.0</td>\n",
              "      <td>4.0</td>\n",
              "      <td>NaN</td>\n",
              "      <td>NaN</td>\n",
              "      <td>yarmakx@gmail.com</td>\n",
              "    </tr>\n",
              "    <tr>\n",
              "      <th>13</th>\n",
              "      <td>luzhixin1994@gmail.com</td>\n",
              "      <td>NaN</td>\n",
              "      <td>5.0</td>\n",
              "      <td>NaN</td>\n",
              "      <td>4.0</td>\n",
              "      <td>3.0</td>\n",
              "      <td>3.0</td>\n",
              "      <td>NaN</td>\n",
              "      <td>NaN</td>\n",
              "      <td>limjingrong@gmail.com</td>\n",
              "    </tr>\n",
              "    <tr>\n",
              "      <th>14</th>\n",
              "      <td>s.s.gunnels@gmail.com</td>\n",
              "      <td>Everything is helpful! Though I use discord th...</td>\n",
              "      <td>5.0</td>\n",
              "      <td>I also love helping others so it's fun!</td>\n",
              "      <td>5.0</td>\n",
              "      <td>3.0</td>\n",
              "      <td>2.0</td>\n",
              "      <td>Loved it :)</td>\n",
              "      <td>You guys are doing great! Appreciate it!</td>\n",
              "      <td>yarmakx@gmail.com</td>\n",
              "    </tr>\n",
              "    <tr>\n",
              "      <th>15</th>\n",
              "      <td>relian41@yahoo.com</td>\n",
              "      <td>NaN</td>\n",
              "      <td>5.0</td>\n",
              "      <td>NaN</td>\n",
              "      <td>5.0</td>\n",
              "      <td>3.0</td>\n",
              "      <td>3.0</td>\n",
              "      <td>NaN</td>\n",
              "      <td>NaN</td>\n",
              "      <td>NaN</td>\n",
              "    </tr>\n",
              "    <tr>\n",
              "      <th>16</th>\n",
              "      <td>maria.c.fionalita@live.com</td>\n",
              "      <td>My Qs get answered quickly by other students a...</td>\n",
              "      <td>5.0</td>\n",
              "      <td>people have been very helpful! :)</td>\n",
              "      <td>4.0</td>\n",
              "      <td>3.0</td>\n",
              "      <td>1.0</td>\n",
              "      <td>I am confused, do I have two section leaders?</td>\n",
              "      <td>NaN</td>\n",
              "      <td>rajthebest@gmail.com</td>\n",
              "    </tr>\n",
              "    <tr>\n",
              "      <th>17</th>\n",
              "      <td>lopezgonzalez.paola@gmail.com</td>\n",
              "      <td>NaN</td>\n",
              "      <td>5.0</td>\n",
              "      <td>NaN</td>\n",
              "      <td>5.0</td>\n",
              "      <td>4.0</td>\n",
              "      <td>3.0</td>\n",
              "      <td>NaN</td>\n",
              "      <td>NaN</td>\n",
              "      <td>rajthebest@gmail.com</td>\n",
              "    </tr>\n",
              "    <tr>\n",
              "      <th>18</th>\n",
              "      <td>linkupah@gmail.com</td>\n",
              "      <td>NaN</td>\n",
              "      <td>5.0</td>\n",
              "      <td>NaN</td>\n",
              "      <td>5.0</td>\n",
              "      <td>4.0</td>\n",
              "      <td>3.0</td>\n",
              "      <td>NaN</td>\n",
              "      <td>NaN</td>\n",
              "      <td>rajthebest@gmail.com</td>\n",
              "    </tr>\n",
              "    <tr>\n",
              "      <th>19</th>\n",
              "      <td>rawan.gafar21@gmail.com</td>\n",
              "      <td>Why did we repeat the same problem as the webi...</td>\n",
              "      <td>5.0</td>\n",
              "      <td>but i feel we neep more communication as per s...</td>\n",
              "      <td>2.0</td>\n",
              "      <td>3.0</td>\n",
              "      <td>2.0</td>\n",
              "      <td>repetition of same problem as webinar, there w...</td>\n",
              "      <td>maybe we could have a slide for each week just...</td>\n",
              "      <td>rajthebest@gmail.com</td>\n",
              "    </tr>\n",
              "    <tr>\n",
              "      <th>20</th>\n",
              "      <td>paulaaaguilar@gmail.com</td>\n",
              "      <td>I found the section very helpful because the p...</td>\n",
              "      <td>5.0</td>\n",
              "      <td>The leaders were encouraging questions and whe...</td>\n",
              "      <td>5.0</td>\n",
              "      <td>3.0</td>\n",
              "      <td>3.0</td>\n",
              "      <td>NaN</td>\n",
              "      <td>NaN</td>\n",
              "      <td>rajthebest@gmail.com</td>\n",
              "    </tr>\n",
              "    <tr>\n",
              "      <th>21</th>\n",
              "      <td>camila.perezlosada@gmail.com</td>\n",
              "      <td>The section was really helpful, both teachers ...</td>\n",
              "      <td>5.0</td>\n",
              "      <td>NaN</td>\n",
              "      <td>5.0</td>\n",
              "      <td>2.0</td>\n",
              "      <td>3.0</td>\n",
              "      <td>NaN</td>\n",
              "      <td>NaN</td>\n",
              "      <td>kumar.aneesh@protonmail.com</td>\n",
              "    </tr>\n",
              "    <tr>\n",
              "      <th>22</th>\n",
              "      <td>jaindevika40@yahoo.com</td>\n",
              "      <td>NaN</td>\n",
              "      <td>4.0</td>\n",
              "      <td>NaN</td>\n",
              "      <td>5.0</td>\n",
              "      <td>3.0</td>\n",
              "      <td>2.0</td>\n",
              "      <td>NaN</td>\n",
              "      <td>NaN</td>\n",
              "      <td>kumar.aneesh@protonmail.com</td>\n",
              "    </tr>\n",
              "    <tr>\n",
              "      <th>23</th>\n",
              "      <td>calebj.mitchell@gmail.com</td>\n",
              "      <td>NaN</td>\n",
              "      <td>5.0</td>\n",
              "      <td>NaN</td>\n",
              "      <td>5.0</td>\n",
              "      <td>4.0</td>\n",
              "      <td>3.0</td>\n",
              "      <td>NaN</td>\n",
              "      <td>NaN</td>\n",
              "      <td>sak0615@gmail.com</td>\n",
              "    </tr>\n",
              "    <tr>\n",
              "      <th>24</th>\n",
              "      <td>natasa0688@gmail.com</td>\n",
              "      <td>NaN</td>\n",
              "      <td>2.0</td>\n",
              "      <td>NaN</td>\n",
              "      <td>4.0</td>\n",
              "      <td>4.0</td>\n",
              "      <td>3.0</td>\n",
              "      <td>NaN</td>\n",
              "      <td>NaN</td>\n",
              "      <td>gkushagra48@gmail.com</td>\n",
              "    </tr>\n",
              "    <tr>\n",
              "      <th>25</th>\n",
              "      <td>eunjikim2022@gmail.com</td>\n",
              "      <td>NaN</td>\n",
              "      <td>5.0</td>\n",
              "      <td>NaN</td>\n",
              "      <td>5.0</td>\n",
              "      <td>2.0</td>\n",
              "      <td>1.0</td>\n",
              "      <td>a shared ide to use in breakout rooms would be...</td>\n",
              "      <td>NaN</td>\n",
              "      <td>gkushagra48@gmail.com</td>\n",
              "    </tr>\n",
              "    <tr>\n",
              "      <th>26</th>\n",
              "      <td>harrinee1@gmail.com</td>\n",
              "      <td>NaN</td>\n",
              "      <td>5.0</td>\n",
              "      <td>Section leaders really encouraged us to ask qu...</td>\n",
              "      <td>4.0</td>\n",
              "      <td>3.0</td>\n",
              "      <td>2.0</td>\n",
              "      <td>In the future I am hoping we can work on multi...</td>\n",
              "      <td>NaN</td>\n",
              "      <td>rajthebest@gmail.com</td>\n",
              "    </tr>\n",
              "    <tr>\n",
              "      <th>27</th>\n",
              "      <td>citrayuwono@yahoo.com</td>\n",
              "      <td>NaN</td>\n",
              "      <td>3.0</td>\n",
              "      <td>NaN</td>\n",
              "      <td>2.0</td>\n",
              "      <td>1.0</td>\n",
              "      <td>1.0</td>\n",
              "      <td>NaN</td>\n",
              "      <td>NaN</td>\n",
              "      <td>michael.pon@gmail.com</td>\n",
              "    </tr>\n",
              "    <tr>\n",
              "      <th>28</th>\n",
              "      <td>burcusevgican@gmail.com</td>\n",
              "      <td>NaN</td>\n",
              "      <td>5.0</td>\n",
              "      <td>ı asked lots of question, always someone is on...</td>\n",
              "      <td>4.0</td>\n",
              "      <td>3.0</td>\n",
              "      <td>4.0</td>\n",
              "      <td>i didnt like c so section was difficult for me...</td>\n",
              "      <td>can you explain how to use github?</td>\n",
              "      <td>larynqi@berkeley.edu</td>\n",
              "    </tr>\n",
              "    <tr>\n",
              "      <th>29</th>\n",
              "      <td>roshni.mohandas@gmail.com</td>\n",
              "      <td>The class was awesome. Sameer and Aneesh our s...</td>\n",
              "      <td>5.0</td>\n",
              "      <td>The section leaders made it very clear</td>\n",
              "      <td>5.0</td>\n",
              "      <td>3.0</td>\n",
              "      <td>3.0</td>\n",
              "      <td>This was perfect</td>\n",
              "      <td>NaN</td>\n",
              "      <td>sameerkumarprasad1995@gmail.com</td>\n",
              "    </tr>\n",
              "    <tr>\n",
              "      <th>30</th>\n",
              "      <td>anhhoangnguyen3498@gmail.com</td>\n",
              "      <td>NaN</td>\n",
              "      <td>4.0</td>\n",
              "      <td>NaN</td>\n",
              "      <td>3.0</td>\n",
              "      <td>3.0</td>\n",
              "      <td>3.0</td>\n",
              "      <td>I really appreciate the efforts of my section ...</td>\n",
              "      <td>NaN</td>\n",
              "      <td>sameerkumarprasad1995@gmail.com</td>\n",
              "    </tr>\n",
              "    <tr>\n",
              "      <th>31</th>\n",
              "      <td>sadhukhanayan34@gmail.com</td>\n",
              "      <td>NaN</td>\n",
              "      <td>5.0</td>\n",
              "      <td>NaN</td>\n",
              "      <td>5.0</td>\n",
              "      <td>3.0</td>\n",
              "      <td>2.0</td>\n",
              "      <td>NaN</td>\n",
              "      <td>NaN</td>\n",
              "      <td>usama_ahsan@hotmail.com</td>\n",
              "    </tr>\n",
              "    <tr>\n",
              "      <th>32</th>\n",
              "      <td>jagritichakrabarty@gmail.com</td>\n",
              "      <td>NaN</td>\n",
              "      <td>3.0</td>\n",
              "      <td>NaN</td>\n",
              "      <td>4.0</td>\n",
              "      <td>3.0</td>\n",
              "      <td>3.0</td>\n",
              "      <td>NaN</td>\n",
              "      <td>NaN</td>\n",
              "      <td>usama_ahsan@hotmail.com</td>\n",
              "    </tr>\n",
              "    <tr>\n",
              "      <th>33</th>\n",
              "      <td>manuel.frias@mba2019.incae.edu</td>\n",
              "      <td>I'm not sure what is meant by Office hours. I ...</td>\n",
              "      <td>5.0</td>\n",
              "      <td>Robert was very helpful and give me the confid...</td>\n",
              "      <td>5.0</td>\n",
              "      <td>3.0</td>\n",
              "      <td>3.0</td>\n",
              "      <td>Excellent job!</td>\n",
              "      <td>Nope</td>\n",
              "      <td>abhimhsr@gmail.com</td>\n",
              "    </tr>\n",
              "    <tr>\n",
              "      <th>34</th>\n",
              "      <td>smb812@nyu.edu</td>\n",
              "      <td>NaN</td>\n",
              "      <td>5.0</td>\n",
              "      <td>NaN</td>\n",
              "      <td>5.0</td>\n",
              "      <td>3.0</td>\n",
              "      <td>3.0</td>\n",
              "      <td>NaN</td>\n",
              "      <td>NaN</td>\n",
              "      <td>abhimhsr@gmail.com</td>\n",
              "    </tr>\n",
              "    <tr>\n",
              "      <th>35</th>\n",
              "      <td>tortegaa1@gmail.com</td>\n",
              "      <td>NaN</td>\n",
              "      <td>3.0</td>\n",
              "      <td>NaN</td>\n",
              "      <td>4.0</td>\n",
              "      <td>4.0</td>\n",
              "      <td>4.0</td>\n",
              "      <td>I would appreciate having the code we cover in...</td>\n",
              "      <td>NaN</td>\n",
              "      <td>larynqi@berkeley.edu</td>\n",
              "    </tr>\n",
              "    <tr>\n",
              "      <th>36</th>\n",
              "      <td>kurniagb@gmail.com</td>\n",
              "      <td>I rather be learning about new functions or to...</td>\n",
              "      <td>4.0</td>\n",
              "      <td>NaN</td>\n",
              "      <td>2.0</td>\n",
              "      <td>3.0</td>\n",
              "      <td>3.0</td>\n",
              "      <td>For pacing, some of the topics covered were ju...</td>\n",
              "      <td>I would greatly appreciate if SL review the CS...</td>\n",
              "      <td>riemannzeta5@gmail.com</td>\n",
              "    </tr>\n",
              "    <tr>\n",
              "      <th>37</th>\n",
              "      <td>anuswaminathan1@gmail.com</td>\n",
              "      <td>NaN</td>\n",
              "      <td>5.0</td>\n",
              "      <td>NaN</td>\n",
              "      <td>3.0</td>\n",
              "      <td>3.0</td>\n",
              "      <td>3.0</td>\n",
              "      <td>NaN</td>\n",
              "      <td>NaN</td>\n",
              "      <td>samakshsethi.ss@gmail.com</td>\n",
              "    </tr>\n",
              "    <tr>\n",
              "      <th>38</th>\n",
              "      <td>dilnavoz92@gmail.com</td>\n",
              "      <td>I couldn't attend the first office hours. It w...</td>\n",
              "      <td>4.0</td>\n",
              "      <td>NaN</td>\n",
              "      <td>4.0</td>\n",
              "      <td>3.0</td>\n",
              "      <td>3.0</td>\n",
              "      <td>NaN</td>\n",
              "      <td>Dear Coding Together Team, thank you so much f...</td>\n",
              "      <td>vedang.d.gaonkar@gmail.com</td>\n",
              "    </tr>\n",
              "    <tr>\n",
              "      <th>39</th>\n",
              "      <td>heatherbrooks.wi@gmail.com</td>\n",
              "      <td>I found Robert's recorded section helpful, and...</td>\n",
              "      <td>3.0</td>\n",
              "      <td>NaN</td>\n",
              "      <td>2.0</td>\n",
              "      <td>3.0</td>\n",
              "      <td>4.0</td>\n",
              "      <td>I thought Jing Rong did a really good job, but...</td>\n",
              "      <td>NaN</td>\n",
              "      <td>yarmakx@gmail.com</td>\n",
              "    </tr>\n",
              "  </tbody>\n",
              "</table>\n",
              "</div>"
            ],
            "text/plain": [
              "                     Email Address  ...                  Email Address.1\n",
              "0              g_fahd@hotmail.com   ...                              NaN\n",
              "1            pramodrao24@gmail.com  ...                akshayn@cmi.ac.in\n",
              "2          emily.okuhara@gmail.com  ...       siddhanttiwary30@gmail.com\n",
              "3           negar.hadian@gmail.com  ...                akshayn@cmi.ac.in\n",
              "4            shalini.916@gmail.com  ...                akshayn@cmi.ac.in\n",
              "5      jessejeremiah2015@gmail.com  ...           huismichael9@gmail.com\n",
              "6           NAIR.PRASANA@GMAIL.COM  ...                akshayn@cmi.ac.in\n",
              "7              yum.julia@gmail.com  ...                akshayn@cmi.ac.in\n",
              "8       narmin.isparzade@gmail.com  ...           reenayuan@berkeley.edu\n",
              "9           malphonsus20@gmail.com  ...       vedang.d.gaonkar@gmail.com\n",
              "10           cara.failer@gmail.com  ...        samakshsethi.ss@gmail.com\n",
              "11              twelsh37@gmail.com  ...             rparada@stanford.edu\n",
              "12       Shamel.basaria1@gmail.com  ...                yarmakx@gmail.com\n",
              "13          luzhixin1994@gmail.com  ...            limjingrong@gmail.com\n",
              "14           s.s.gunnels@gmail.com  ...                yarmakx@gmail.com\n",
              "15              relian41@yahoo.com  ...                              NaN\n",
              "16      maria.c.fionalita@live.com  ...             rajthebest@gmail.com\n",
              "17   lopezgonzalez.paola@gmail.com  ...             rajthebest@gmail.com\n",
              "18              linkupah@gmail.com  ...             rajthebest@gmail.com\n",
              "19         rawan.gafar21@gmail.com  ...             rajthebest@gmail.com\n",
              "20         paulaaaguilar@gmail.com  ...             rajthebest@gmail.com\n",
              "21    camila.perezlosada@gmail.com  ...      kumar.aneesh@protonmail.com\n",
              "22          jaindevika40@yahoo.com  ...      kumar.aneesh@protonmail.com\n",
              "23       calebj.mitchell@gmail.com  ...                sak0615@gmail.com\n",
              "24            natasa0688@gmail.com  ...            gkushagra48@gmail.com\n",
              "25          eunjikim2022@gmail.com  ...            gkushagra48@gmail.com\n",
              "26             harrinee1@gmail.com  ...             rajthebest@gmail.com\n",
              "27           citrayuwono@yahoo.com  ...            michael.pon@gmail.com\n",
              "28         burcusevgican@gmail.com  ...             larynqi@berkeley.edu\n",
              "29       roshni.mohandas@gmail.com  ...  sameerkumarprasad1995@gmail.com\n",
              "30    anhhoangnguyen3498@gmail.com  ...  sameerkumarprasad1995@gmail.com\n",
              "31       sadhukhanayan34@gmail.com  ...          usama_ahsan@hotmail.com\n",
              "32    jagritichakrabarty@gmail.com  ...          usama_ahsan@hotmail.com\n",
              "33  manuel.frias@mba2019.incae.edu  ...               abhimhsr@gmail.com\n",
              "34                  smb812@nyu.edu  ...               abhimhsr@gmail.com\n",
              "35             tortegaa1@gmail.com  ...             larynqi@berkeley.edu\n",
              "36              kurniagb@gmail.com  ...           riemannzeta5@gmail.com\n",
              "37       anuswaminathan1@gmail.com  ...        samakshsethi.ss@gmail.com\n",
              "38            dilnavoz92@gmail.com  ...       vedang.d.gaonkar@gmail.com\n",
              "39      heatherbrooks.wi@gmail.com  ...                yarmakx@gmail.com\n",
              "\n",
              "[40 rows x 10 columns]"
            ]
          },
          "metadata": {
            "tags": []
          },
          "execution_count": 19
        }
      ]
    },
    {
      "cell_type": "code",
      "metadata": {
        "id": "vT3encXSpi7Y",
        "colab_type": "code",
        "colab": {}
      },
      "source": [
        "###dictionary with combined SL's\n",
        "diction={\"akshayn@cmi.ac.in\":\"Akshay and Siddhant\",\"vedang.d.gaonkar@gmail.com\":\"Vedang and Prabhsimar\",\"siddhanttiwary30@gmail.com\":\"Akshay and Siddhant\",\"yarmakx@gmail.com\":\"Yaroslav and Jing\",\"limjingrong@gmail.com\":\"Yaroslav and Jing\",\"yarmakx@gmail.com\":\"Yaroslav and Jing\",\"sak0615@gmail.com\":\"Rajdeep and Saksham\",\"rajthebest@gmail.com\":\"Rajdeep and Saksham\",\"huismichael9@gmail.com\":\"Michael and Nihal\",\"riemannzeta5@gmail.com\":\"Michael and Nihal\" }"
      ],
      "execution_count": null,
      "outputs": []
    },
    {
      "cell_type": "code",
      "metadata": {
        "id": "M3h2k1yCsW1j",
        "colab_type": "code",
        "colab": {
          "base_uri": "https://localhost:8080/",
          "height": 100
        },
        "outputId": "da0b405b-2600-44c9-c909-254776c98095"
      },
      "source": [
        "###getting the team names together for peopel who team taught\n",
        "for ind in fin.index:\n",
        "  if fin[\"Email Address.1\"][ind] in diction:\n",
        "    fin[\"Email Address.1\"][ind]=diction[fin[\"Email Address.1\"][ind]]"
      ],
      "execution_count": null,
      "outputs": [
        {
          "output_type": "stream",
          "text": [
            "/usr/local/lib/python3.6/dist-packages/ipykernel_launcher.py:4: SettingWithCopyWarning: \n",
            "A value is trying to be set on a copy of a slice from a DataFrame\n",
            "\n",
            "See the caveats in the documentation: https://pandas.pydata.org/pandas-docs/stable/user_guide/indexing.html#returning-a-view-versus-a-copy\n",
            "  after removing the cwd from sys.path.\n"
          ],
          "name": "stderr"
        }
      ]
    },
    {
      "cell_type": "code",
      "metadata": {
        "id": "71oXkSily_Va",
        "colab_type": "code",
        "colab": {}
      },
      "source": [
        "###drop the first column for fin which is useless\n",
        "fin.drop(fin.columns[[0,1]],axis=1,inplace=True)"
      ],
      "execution_count": null,
      "outputs": []
    },
    {
      "cell_type": "code",
      "metadata": {
        "id": "CW-0B8-As_IE",
        "colab_type": "code",
        "colab": {}
      },
      "source": [
        "###Sort based on the Names of SL's\n",
        "fin.sort_values('Email Address.1',inplace=True)"
      ],
      "execution_count": null,
      "outputs": []
    },
    {
      "cell_type": "code",
      "metadata": {
        "id": "s_nKS6B4ttGM",
        "colab_type": "code",
        "colab": {
          "base_uri": "https://localhost:8080/",
          "height": 100
        },
        "outputId": "8f3f6a7b-4066-49fb-8f1d-813a7741c245"
      },
      "source": [
        "fin['Email Address.1'][0]=\"Akshay and Siddhant\""
      ],
      "execution_count": null,
      "outputs": [
        {
          "output_type": "stream",
          "text": [
            "/usr/local/lib/python3.6/dist-packages/ipykernel_launcher.py:1: SettingWithCopyWarning: \n",
            "A value is trying to be set on a copy of a slice from a DataFrame\n",
            "\n",
            "See the caveats in the documentation: https://pandas.pydata.org/pandas-docs/stable/user_guide/indexing.html#returning-a-view-versus-a-copy\n",
            "  \"\"\"Entry point for launching an IPython kernel.\n"
          ],
          "name": "stderr"
        }
      ]
    },
    {
      "cell_type": "code",
      "metadata": {
        "id": "WsiFzHwG-hGY",
        "colab_type": "code",
        "colab": {
          "base_uri": "https://localhost:8080/",
          "height": 291
        },
        "outputId": "c7bc7313-649d-4886-8efe-bec051ac485f"
      },
      "source": [
        "fin.head()"
      ],
      "execution_count": null,
      "outputs": [
        {
          "output_type": "execute_result",
          "data": {
            "text/html": [
              "<div>\n",
              "<style scoped>\n",
              "    .dataframe tbody tr th:only-of-type {\n",
              "        vertical-align: middle;\n",
              "    }\n",
              "\n",
              "    .dataframe tbody tr th {\n",
              "        vertical-align: top;\n",
              "    }\n",
              "\n",
              "    .dataframe thead th {\n",
              "        text-align: right;\n",
              "    }\n",
              "</style>\n",
              "<table border=\"1\" class=\"dataframe\">\n",
              "  <thead>\n",
              "    <tr style=\"text-align: right;\">\n",
              "      <th></th>\n",
              "      <th>I feel comfortable reaching out for help.</th>\n",
              "      <th>Feel free to elaborate on your rating above</th>\n",
              "      <th>How helpful did you find your section?</th>\n",
              "      <th>Pace</th>\n",
              "      <th>Difficulty</th>\n",
              "      <th>What other feedback would you like to provide about your section?</th>\n",
              "      <th>Anything else you want to let us know?</th>\n",
              "      <th>Email Address.1</th>\n",
              "    </tr>\n",
              "  </thead>\n",
              "  <tbody>\n",
              "    <tr>\n",
              "      <th>1</th>\n",
              "      <td>5.0</td>\n",
              "      <td>NaN</td>\n",
              "      <td>5.0</td>\n",
              "      <td>3.0</td>\n",
              "      <td>1.0</td>\n",
              "      <td>NaN</td>\n",
              "      <td>NaN</td>\n",
              "      <td>Akshay and Siddhant</td>\n",
              "    </tr>\n",
              "    <tr>\n",
              "      <th>2</th>\n",
              "      <td>4.0</td>\n",
              "      <td>NaN</td>\n",
              "      <td>2.0</td>\n",
              "      <td>1.0</td>\n",
              "      <td>1.0</td>\n",
              "      <td>NaN</td>\n",
              "      <td>I would like to change the section time to UTC...</td>\n",
              "      <td>Akshay and Siddhant</td>\n",
              "    </tr>\n",
              "    <tr>\n",
              "      <th>3</th>\n",
              "      <td>5.0</td>\n",
              "      <td>NaN</td>\n",
              "      <td>4.0</td>\n",
              "      <td>4.0</td>\n",
              "      <td>3.0</td>\n",
              "      <td>NaN</td>\n",
              "      <td>NaN</td>\n",
              "      <td>Akshay and Siddhant</td>\n",
              "    </tr>\n",
              "    <tr>\n",
              "      <th>4</th>\n",
              "      <td>5.0</td>\n",
              "      <td>Everyone is very welcoming so i am comfortable...</td>\n",
              "      <td>5.0</td>\n",
              "      <td>3.0</td>\n",
              "      <td>2.0</td>\n",
              "      <td>If an agenda is shared before each section, th...</td>\n",
              "      <td>No</td>\n",
              "      <td>Akshay and Siddhant</td>\n",
              "    </tr>\n",
              "    <tr>\n",
              "      <th>6</th>\n",
              "      <td>4.0</td>\n",
              "      <td>I am quite shy about this but the section lead...</td>\n",
              "      <td>4.0</td>\n",
              "      <td>4.0</td>\n",
              "      <td>2.0</td>\n",
              "      <td>would be great if we kind of go through what t...</td>\n",
              "      <td>Thank you for doing all this, to the teachers ...</td>\n",
              "      <td>Akshay and Siddhant</td>\n",
              "    </tr>\n",
              "  </tbody>\n",
              "</table>\n",
              "</div>"
            ],
            "text/plain": [
              "   I feel comfortable reaching out for help.  ...      Email Address.1\n",
              "1                                        5.0  ...  Akshay and Siddhant\n",
              "2                                        4.0  ...  Akshay and Siddhant\n",
              "3                                        5.0  ...  Akshay and Siddhant\n",
              "4                                        5.0  ...  Akshay and Siddhant\n",
              "6                                        4.0  ...  Akshay and Siddhant\n",
              "\n",
              "[5 rows x 8 columns]"
            ]
          },
          "metadata": {
            "tags": []
          },
          "execution_count": 25
        }
      ]
    },
    {
      "cell_type": "code",
      "metadata": {
        "id": "oWVq5WLUt6gZ",
        "colab_type": "code",
        "colab": {}
      },
      "source": [
        "###Calculating averages for each SL\n",
        "copy=fin.filter(fin.columns[[0,2,3,4,7]],axis=1)"
      ],
      "execution_count": null,
      "outputs": []
    },
    {
      "cell_type": "code",
      "metadata": {
        "id": "4svcLP8CwWx5",
        "colab_type": "code",
        "colab": {}
      },
      "source": [
        "###dataframe_to_get_all_the_averages\n",
        "x=copy.groupby(\"Email Address.1\").mean().reset_index()"
      ],
      "execution_count": null,
      "outputs": []
    },
    {
      "cell_type": "code",
      "metadata": {
        "id": "2wuqkmzUzfyG",
        "colab_type": "code",
        "colab": {}
      },
      "source": [
        "import numpy as np\n",
        "import matplotlib.pyplot as plt\n"
      ],
      "execution_count": null,
      "outputs": []
    },
    {
      "cell_type": "code",
      "metadata": {
        "id": "rM9pYPrw7Vx9",
        "colab_type": "code",
        "colab": {}
      },
      "source": [
        "e1=x['Email Address.1'].tolist()\n",
        "ifc=x['I feel comfortable reaching out for help.'].tolist()\n",
        "hhelp=x['How helpful did you find your section?'].tolist()\n",
        "p=x['Pace'].tolist()\n",
        "dif=x['Difficulty'].tolist()"
      ],
      "execution_count": null,
      "outputs": []
    },
    {
      "cell_type": "code",
      "metadata": {
        "id": "nreSyvoa78bE",
        "colab_type": "code",
        "colab": {
          "base_uri": "https://localhost:8080/",
          "height": 296
        },
        "outputId": "2e88abe6-863b-4e59-b989-833aa8842135"
      },
      "source": [
        "###lpotting all the values \n",
        "height = ifc\n",
        "bars = e1\n",
        "y_pos = np.arange(len(bars))\n",
        " \n",
        "# Create horizontal bars\n",
        "plt.barh(y_pos, height)\n",
        " \n",
        "# Create names on the y-axis\n",
        "plt.yticks(y_pos, bars)\n",
        "plt.title(\"How reachable were the SL's for help \\n\")\n",
        "# Show graphic\n",
        "plt.savefig(\"Reachability for help\")\n",
        "plt.show()\n"
      ],
      "execution_count": null,
      "outputs": [
        {
          "output_type": "display_data",
          "data": {
            "image/png": "[encoded data removed]",
            "text/plain": [
              "<Figure size 432x288 with 1 Axes>"
            ]
          },
          "metadata": {
            "tags": [],
            "needs_background": "light"
          }
        }
      ]
    },
    {
      "cell_type": "code",
      "metadata": {
        "id": "FYmgkYzq80mg",
        "colab_type": "code",
        "colab": {
          "base_uri": "https://localhost:8080/",
          "height": 296
        },
        "outputId": "8b0d5387-20b1-45c3-d893-f63c255ffc25"
      },
      "source": [
        "###how helpful was the section\n",
        "height = hhelp\n",
        "bars = e1\n",
        "y_pos = np.arange(len(bars))\n",
        " \n",
        "# Create horizontal bars\n",
        "plt.barh(y_pos, height)\n",
        " \n",
        "# Create names on the y-axis\n",
        "plt.yticks(y_pos, bars)\n",
        "plt.title(\"How reachable were the SL's for help \\n\")\n",
        "# Show graphic\n",
        "plt.savefig(\"How helpful did you find your section \\n\")\n",
        "plt.show()"
      ],
      "execution_count": null,
      "outputs": [
        {
          "output_type": "display_data",
          "data": {
            "image/png": "[encoded data removed]",
            "text/plain": [
              "<Figure size 432x288 with 1 Axes>"
            ]
          },
          "metadata": {
            "tags": [],
            "needs_background": "light"
          }
        }
      ]
    },
    {
      "cell_type": "code",
      "metadata": {
        "id": "CJ89Hv1j9U_W",
        "colab_type": "code",
        "colab": {
          "base_uri": "https://localhost:8080/",
          "height": 296
        },
        "outputId": "307d6756-3357-403c-babd-a6af08cfefd4"
      },
      "source": [
        "###how was the pace\n",
        "height = p\n",
        "bars = e1\n",
        "y_pos = np.arange(len(bars))\n",
        " \n",
        "# Create horizontal bars\n",
        "plt.barh(y_pos, height)\n",
        " \n",
        "# Create names on the y-axis\n",
        "plt.yticks(y_pos, bars)\n",
        "plt.title(\"How was the pace for the section \\n\")\n",
        "# Show graphic\n",
        "plt.savefig(\"Pace\\n\")\n",
        "plt.show()"
      ],
      "execution_count": null,
      "outputs": [
        {
          "output_type": "display_data",
          "data": {
            "image/png": "[encoded data removed]",
            "text/plain": [
              "<Figure size 432x288 with 1 Axes>"
            ]
          },
          "metadata": {
            "tags": [],
            "needs_background": "light"
          }
        }
      ]
    },
    {
      "cell_type": "code",
      "metadata": {
        "id": "ZWtdJjaz9noa",
        "colab_type": "code",
        "colab": {
          "base_uri": "https://localhost:8080/",
          "height": 296
        },
        "outputId": "f6a53e13-da09-459b-98cc-474072a8c605"
      },
      "source": [
        "###how was the overall difficulty\n",
        "height = dif\n",
        "bars = e1\n",
        "y_pos = np.arange(len(bars))\n",
        " \n",
        "# Create horizontal bars\n",
        "plt.barh(y_pos, height)\n",
        " \n",
        "# Create names on the y-axis\n",
        "plt.yticks(y_pos, bars)\n",
        "plt.title(\"How difficult were the section contents \\n\")\n",
        "# Show graphic\n",
        "plt.savefig(\"Dificulty\\n\")\n",
        "plt.show()"
      ],
      "execution_count": null,
      "outputs": [
        {
          "output_type": "display_data",
          "data": {
            "image/png": "[encoded data removed]",
            "text/plain": [
              "<Figure size 432x288 with 1 Axes>"
            ]
          },
          "metadata": {
            "tags": [],
            "needs_background": "light"
          }
        }
      ]
    },
    {
      "cell_type": "code",
      "metadata": {
        "id": "HI4PpS6gfdSI",
        "colab_type": "code",
        "colab": {}
      },
      "source": [
        "x.to_excel(\"Average_of_rating.xlsx\")\n",
        "fin.to_excel(\"Feedback.xlsx\")"
      ],
      "execution_count": null,
      "outputs": []
    },
    {
      "cell_type": "code",
      "metadata": {
        "id": "D0QzZ2nuk5KW",
        "colab_type": "code",
        "colab": {}
      },
      "source": [
        "###saving to my drive\n",
        "!cp Feedback.xlsx \"drive/My Drive/\"\n",
        "!cp Average_of_rating.xlsx \"drive/My Drive/\""
      ],
      "execution_count": null,
      "outputs": []
    },
    {
      "cell_type": "code",
      "metadata": {
        "id": "8S1WoqtDlBW_",
        "colab_type": "code",
        "colab": {}
      },
      "source": [
        ""
      ],
      "execution_count": null,
      "outputs": []
    }
  ]
}